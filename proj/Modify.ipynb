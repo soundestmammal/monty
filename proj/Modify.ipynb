{
 "cells": [
  {
   "cell_type": "code",
   "execution_count": 1,
   "metadata": {
    "collapsed": true
   },
   "outputs": [],
   "source": [
    "import openpyxl"
   ]
  },
  {
   "cell_type": "code",
   "execution_count": 2,
   "metadata": {},
   "outputs": [
    {
     "name": "stderr",
     "output_type": "stream",
     "text": [
      "/Users/robertchecco/anaconda3/lib/python3.6/site-packages/openpyxl/reader/worksheet.py:310: UserWarning: Unknown extension is not supported and will be removed\n",
      "  warn(msg)\n"
     ]
    }
   ],
   "source": [
    "wb = openpyxl.load_workbook('timesheet.xlsx')"
   ]
  },
  {
   "cell_type": "code",
   "execution_count": 3,
   "metadata": {},
   "outputs": [
    {
     "name": "stdout",
     "output_type": "stream",
     "text": [
      "Temp Service Time Sheet\n"
     ]
    }
   ],
   "source": [
    "ray = wb.get_sheet_names()\n",
    "print(ray[0])\n"
   ]
  },
  {
   "cell_type": "code",
   "execution_count": 4,
   "metadata": {
    "collapsed": true
   },
   "outputs": [],
   "source": [
    "sheet = wb.get_sheet_by_name(ray[0])"
   ]
  },
  {
   "cell_type": "code",
   "execution_count": 5,
   "metadata": {},
   "outputs": [
    {
     "data": {
      "text/plain": [
       "<Worksheet \"Temp Service Time Sheet\">"
      ]
     },
     "execution_count": 5,
     "metadata": {},
     "output_type": "execute_result"
    }
   ],
   "source": [
    "pay_period_lookup = {\n",
    "    13: [],\n",
    "    14: ['09/30/19', '10/01/19', '10/02/19', '10/03/19', '10/04/19', '10/07/19', '10/08/19', '10/09/19', '10/10/19', '10/11/19'],\n",
    "    15: [],\n",
    "    16: [],\n",
    "    17: [],\n",
    "    18: [],\n",
    "}"
   ]
  },
  {
   "cell_type": "code",
   "execution_count": 6,
   "metadata": {},
   "outputs": [
    {
     "data": {
      "text/plain": [
       "'Name:'"
      ]
     },
     "execution_count": 6,
     "metadata": {},
     "output_type": "execute_result"
    }
   ],
   "source": [
    "sheet['A3'].value"
   ]
  },
  {
   "cell_type": "code",
   "execution_count": 7,
   "metadata": {
    "collapsed": true
   },
   "outputs": [],
   "source": [
    "sheet['B3'] = 'Robert V Checco'\n",
    "sheet[\"F3\"] = '96000111'\n",
    "sheet[\"J3\"] = '13'\n",
    "sheet[\"B4\"] = 'Math Center'\n",
    "sheet[\"F4\"] = '14$/hr'\n",
    "sheet[\"F5\"] = '09/16/19 - 09/29/19'\n",
    "slots_for_dates = ['B8', 'C8', 'D8', 'E19', 'F19', 'G19', 'H19', 'B30', 'C30', 'D30', 'E30', 'F30', 'G30', 'H30']\n",
    "dates_for_insert = ['09/16/19', '09/17/19', '09/18/19', '09/19/19', '09/20/19', '09/21/19', '09/22/19', '09/23/19', '09/24/19', '09/25/19', '09/26/19', '09/27/19', '09/28/19', '09/29/19']\n",
    "for x in range(14):\n",
    "    sheet[slots_for_dates[x]] = dates_for_insert[x]\n"
   ]
  },
  {
   "cell_type": "code",
   "execution_count": 16,
   "metadata": {},
   "outputs": [],
   "source": [
    "\n",
    "sheet['B9'] = \"11:00 AM\"\n",
    "sheet['B10'] = \"5:00 PM\"\n",
    "slots_for_arrival = ['B9', 'C9', 'D9', 'E20', 'B31', 'C31', 'D31', 'E31']\n",
    "slots_for_departure = ['B10', 'C10', 'D10', 'E21', 'B32', 'C32', 'D32', 'E32']\n",
    "\n",
    "# Friday Add in hours\n",
    "sheet['F20'] = \"2:00 PM\"\n",
    "sheet['F21'] = \"5:00 PM\"\n",
    "sheet['F31'] = \"2:00 PM\"\n",
    "sheet['F32'] = \"5:00 PM\"\n",
    "\n",
    "\n",
    "for x in range(8):\n",
    "    sheet[slots_for_arrival[x]] = \"11:00 AM\"\n",
    "    sheet[slots_for_departure[x]] = \"5:00 PM\"\n",
    "\n",
    "slots_for_reconciliation = ['B15', 'C15', 'D15', 'E26', 'B37', 'C37', 'D37', 'E37']\n",
    "for x in range(8):\n",
    "    sheet[slots_for_reconciliation[x]] = 6.00\n",
    "\n",
    "fri_slots_reconciliation = ['F26', 'F37']\n",
    "for x in range(2):\n",
    "    sheet[fri_slots_reconciliation[x]] = 3.00"
   ]
  },
  {
   "cell_type": "code",
   "execution_count": null,
   "metadata": {
    "collapsed": true
   },
   "outputs": [],
   "source": []
  },
  {
   "cell_type": "code",
   "execution_count": 17,
   "metadata": {
    "collapsed": true
   },
   "outputs": [],
   "source": [
    "wb.save('fifthcopy.xlsx')"
   ]
  },
  {
   "cell_type": "code",
   "execution_count": null,
   "metadata": {
    "collapsed": true
   },
   "outputs": [],
   "source": []
  }
 ],
 "metadata": {
  "kernelspec": {
   "display_name": "Python 3",
   "language": "python",
   "name": "python3"
  },
  "language_info": {
   "codemirror_mode": {
    "name": "ipython",
    "version": 3
   },
   "file_extension": ".py",
   "mimetype": "text/x-python",
   "name": "python",
   "nbconvert_exporter": "python",
   "pygments_lexer": "ipython3",
   "version": "3.6.3"
  }
 },
 "nbformat": 4,
 "nbformat_minor": 2
}
